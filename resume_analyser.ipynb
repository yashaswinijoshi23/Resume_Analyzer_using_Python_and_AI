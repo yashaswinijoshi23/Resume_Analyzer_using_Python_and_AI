{
 "cells": [
  {
   "cell_type": "markdown",
   "id": "42dcc999",
   "metadata": {},
   "source": [
    "# Fetch Text from PDF"
   ]
  },
  {
   "cell_type": "code",
   "execution_count": null,
   "id": "d8972689",
   "metadata": {},
   "outputs": [],
   "source": [
    "%pip install pdfplumber pytesseract pdf2image"
   ]
  },
  {
   "cell_type": "code",
   "execution_count": null,
   "id": "3277f0cb",
   "metadata": {},
   "outputs": [],
   "source": [
    "import pdfplumber\n",
    "import pytesseract\n",
    "from pdf2image import convert_from_path"
   ]
  },
  {
   "cell_type": "code",
   "execution_count": null,
   "id": "347d623e",
   "metadata": {},
   "outputs": [],
   "source": [
    "def extract_text_from_pdf(pdf_path):\n",
    "    text = \"\"\n",
    "    try:\n",
    "        with pdfplumber.open(pdf_path) as pdf:\n",
    "            for page in pdf.pages:\n",
    "                page_text = page.extract_text()\n",
    "                if page_text:\n",
    "                    text += page_text + \"\\n\"\n",
    "        \n",
    "        if text.strip():\n",
    "            return text.strip()\n",
    "    except Exception as e:\n",
    "        print(f\"Error reading PDF file {pdf_path}: {e}\")\n",
    "\n",
    "    print(\"Falling back to OCR for image-based PDFs.\")\n",
    "    try:\n",
    "        images =    convert_from_path(pdf_path)\n",
    "        for image in images:\n",
    "            text += pytesseract.image_to_string(image) + \"\\n\"\n",
    "    except Exception as e:\n",
    "        print(f\"Error during OCR processing of {pdf_path}: {e}\")\n",
    "    \n",
    "    return text.strip()"
   ]
  },
  {
   "cell_type": "code",
   "execution_count": null,
   "id": "ee9abd10",
   "metadata": {},
   "outputs": [],
   "source": [
    "pdf_path = \"Resume.pdf\"\n",
    "resume_text = extract_text_from_pdf(pdf_path)\n",
    "\n",
    "print(\"\\nExtracted Text from PDF:\")\n",
    "print(resume_text if resume_text else \"No text could be extracted from the PDF.\")  "
   ]
  },
  {
   "cell_type": "markdown",
   "id": "feb6c6ff",
   "metadata": {},
   "source": [
    "# Google GenAI API Key"
   ]
  },
  {
   "cell_type": "code",
   "execution_count": null,
   "id": "5d338aca",
   "metadata": {},
   "outputs": [],
   "source": [
    "%pip install google-generativeai python-dotenv"
   ]
  },
  {
   "cell_type": "code",
   "execution_count": null,
   "id": "7157cc79",
   "metadata": {},
   "outputs": [],
   "source": [
    "import google.generativeai as genai\n",
    "import os\n",
    "from dotenv import load_dotenv\n",
    "\n",
    "load_dotenv()\n",
    "print(\"GOOGLE_API_KEY:\", os.getenv(\"GOOGLE_API_KEY\"))\n",
    "genai.configure(api_key=os.getenv(\"GOOGLE_API_KEY\"))\n",
    "model = genai.GenerativeModel(\"gemini-2.5-flash\")"
   ]
  },
  {
   "cell_type": "code",
   "execution_count": null,
   "id": "a2cd752c",
   "metadata": {},
   "outputs": [],
   "source": [
    "response = model.generate_content(\"What is the capital of France?\")"
   ]
  },
  {
   "cell_type": "code",
   "execution_count": null,
   "id": "98e92c83",
   "metadata": {},
   "outputs": [],
   "source": [
    "print(response)"
   ]
  },
  {
   "cell_type": "code",
   "execution_count": null,
   "id": "befc0d22",
   "metadata": {},
   "outputs": [],
   "source": [
    "print(response.text)"
   ]
  },
  {
   "cell_type": "markdown",
   "id": "f33de12e",
   "metadata": {},
   "source": [
    "# Resume Analysis"
   ]
  },
  {
   "cell_type": "code",
   "execution_count": null,
   "id": "ff13334d",
   "metadata": {},
   "outputs": [],
   "source": [
    "def analyze_resume(resume_text, job_description = None):\n",
    "    if not resume_text:\n",
    "        return {\"error\": \"No resume text provided.\"}\n",
    "    \n",
    "    model = genai.GenerativeModel(\"gemini-2.5-flash\")\n",
    "\n",
    "    basic_prompt = f\"\"\"\n",
    "    You are an expert resume analyzer. Given the following resume text and job description, provide a detailed analysis of how well the resume matches the job requirements.\n",
    "\n",
    "    Resume:\n",
    "    {resume_text}\n",
    "    \"\"\"\n",
    "\n",
    "    if job_description:\n",
    "        basic_prompt += f\"\"\"\n",
    "        Additionally, consider the following job description:\n",
    "\n",
    "        Job Description:\n",
    "        {job_description}\n",
    "\n",
    "        Highlight the key skills, experiences, and qualifications that make the candidate a good fit for the job.\n",
    "        \"\"\"\n",
    "    response = model.generate_content(basic_prompt)\n",
    "\n",
    "    analysis = response.text.strip()\n",
    "    return analysis"
   ]
  },
  {
   "cell_type": "code",
   "execution_count": null,
   "id": "34599a5c",
   "metadata": {},
   "outputs": [],
   "source": [
    "print(analyze_resume(resume_text))"
   ]
  }
 ],
 "metadata": {
  "kernelspec": {
   "display_name": "Python 3",
   "language": "python",
   "name": "python3"
  },
  "language_info": {
   "codemirror_mode": {
    "name": "ipython",
    "version": 3
   },
   "file_extension": ".py",
   "mimetype": "text/x-python",
   "name": "python",
   "nbconvert_exporter": "python",
   "pygments_lexer": "ipython3",
   "version": "3.13.6"
  }
 },
 "nbformat": 4,
 "nbformat_minor": 5
}
